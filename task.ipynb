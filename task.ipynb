{
 "cells": [
  {
   "cell_type": "markdown",
   "metadata": {},
   "source": [
    "# Задача 1\n",
    "### Создайте numpy array с элементами от числа N до 0 (например, для N = 10 это будет\n",
    "### array([9, 8, 7, 6, 5, 4, 3, 2, 1, 0]))."
   ]
  },
  {
   "cell_type": "code",
   "execution_count": 53,
   "metadata": {},
   "outputs": [
    {
     "name": "stdout",
     "output_type": "stream",
     "text": [
      "Введите число \"x\" больше \"0\": 15\n"
     ]
    },
    {
     "data": {
      "text/plain": [
       "array([14, 13, 12, 11, 10,  9,  8,  7,  6,  5,  4,  3,  2,  1,  0])"
      ]
     },
     "execution_count": 53,
     "metadata": {},
     "output_type": "execute_result"
    }
   ],
   "source": [
    "import numpy as np\n",
    "\n",
    "\n",
    "x = int(input('Введите число \"x\" больше \"0\": '))\n",
    "\n",
    "a = np.arange(x)\n",
    "a = a[::-1]\n",
    "a"
   ]
  },
  {
   "cell_type": "markdown",
   "metadata": {},
   "source": [
    "# Задача 2\n",
    "### Создайте диагональную матрицу с элементами от N до 0. Посчитайте сумму ее значений на диагонали."
   ]
  },
  {
   "cell_type": "code",
   "execution_count": 107,
   "metadata": {},
   "outputs": [
    {
     "name": "stdout",
     "output_type": "stream",
     "text": [
      "Введите число \"x\" больше \"0\": 16\n",
      "Введите количество строк: 4\n",
      "Введите количество столбцов: 4\n",
      "[[15 14 13 12]\n",
      " [11 10  9  8]\n",
      " [ 7  6  5  4]\n",
      " [ 3  2  1  0]]\n"
     ]
    }
   ],
   "source": [
    "import numpy as np\n",
    "\n",
    "\n",
    "x = int(input('Введите число \"x\" больше \"0\": '))\n",
    "a = int(input('Введите количество строк: '))\n",
    "b = int(input('Введите количество столбцов: '))\n",
    "if a == x ** 0.5 and b == x ** 0.5:\n",
    "    c = np.arange(x)\n",
    "    c = c[::-1]\n",
    "    y = c.reshape(a,b)\n",
    "    print(y)\n",
    "else:\n",
    "     print(\"Неверный ввод\")"
   ]
  },
  {
   "cell_type": "code",
   "execution_count": 110,
   "metadata": {},
   "outputs": [
    {
     "name": "stdout",
     "output_type": "stream",
     "text": [
      "30\n"
     ]
    }
   ],
   "source": [
    "diag = np.diagonal(y)\n",
    "result = diag.sum()\n",
    "print(result)"
   ]
  },
  {
   "cell_type": "markdown",
   "metadata": {},
   "source": [
    "# Задача 3\n",
    "## Решите систему уравнений:\n",
    "### 4x + 2y + z = 4\n",
    "### x + 3y = 12\n",
    "### 5y + 4z = -3"
   ]
  },
  {
   "cell_type": "code",
   "execution_count": 24,
   "metadata": {},
   "outputs": [
    {
     "name": "stdout",
     "output_type": "stream",
     "text": [
      "[ 0.46666667  3.84444444 -5.55555556]\n"
     ]
    }
   ],
   "source": [
    "import numpy as np\n",
    "\n",
    "matrix_ = np.array([[4,2,1], [1,3,0], [0,5,4]])\n",
    "vector_ = np.array([4,12,-3])\n",
    "result = np.linalg.solve(matrix_, vector_)\n",
    "\n",
    "print(result)"
   ]
  },
  {
   "cell_type": "markdown",
   "metadata": {},
   "source": [
    "# Задача 4\n"
   ]
  },
  {
   "cell_type": "code",
   "execution_count": 29,
   "metadata": {},
   "outputs": [
    {
     "data": {
      "text/plain": [
       "array([0.04688072, 0.23440362, 0.09376145, 0.23440362, 0.09376145,\n",
       "       0.        , 0.        , 0.14064217, 0.        , 0.        ])"
      ]
     },
     "execution_count": 29,
     "metadata": {},
     "output_type": "execute_result"
    }
   ],
   "source": [
    "import numpy as np\n",
    "\n",
    "\n",
    "users_stats = np.array(\n",
    "    [\n",
    "        [2, 1, 0, 0, 0, 0],\n",
    "        [1, 1, 2, 1, 0, 0],\n",
    "        [2, 0, 1, 0, 0, 0],\n",
    "        [1, 1, 2, 1, 0, 1],\n",
    "        [0, 0, 1, 2, 0, 0],\n",
    "        [0, 0, 0, 0, 0, 5],\n",
    "        [1, 0, 0, 0, 0, 0],\n",
    "        [0, 1, 1, 0, 0, 0],\n",
    "        [0, 0, 0, 1, 1, 3],\n",
    "        [1, 0, 0, 2, 1, 4]\n",
    "    ], \n",
    "    np.int32\n",
    ")\n",
    "\n",
    "\n",
    "next_user_stats = np.array([0, 1, 2, 0, 0, 0])\n",
    "\n",
    "\n",
    "def cosine(users_stats, next_user_stats):\n",
    "    len_users_stats = np.linalg.norm(users_stats)\n",
    "    len_next_user_stats = np.linalg.norm(next_user_stats)\n",
    "    return np.dot(users_stats, next_user_stats) / (len_users_stats * len_next_user_stats)\n",
    "\n",
    "cosine(users_stats, next_user_stats)"
   ]
  }
 ],
 "metadata": {
  "kernelspec": {
   "display_name": "Python 3",
   "language": "python",
   "name": "python3"
  },
  "language_info": {
   "codemirror_mode": {
    "name": "ipython",
    "version": 3
   },
   "file_extension": ".py",
   "mimetype": "text/x-python",
   "name": "python",
   "nbconvert_exporter": "python",
   "pygments_lexer": "ipython3",
   "version": "3.8.5"
  }
 },
 "nbformat": 4,
 "nbformat_minor": 4
}
