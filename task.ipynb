{
 "cells": [
  {
   "cell_type": "markdown",
   "metadata": {},
   "source": [
    "# Задача 1\n",
    "### Создайте numpy array с элементами от числа N до 0 (например, для N = 10 это будет\n",
    "### array([9, 8, 7, 6, 5, 4, 3, 2, 1, 0]))."
   ]
  },
  {
   "cell_type": "code",
   "execution_count": 53,
   "metadata": {},
   "outputs": [
    {
     "name": "stdout",
     "output_type": "stream",
     "text": [
      "Введите число \"x\" больше \"0\": 15\n"
     ]
    },
    {
     "data": {
      "text/plain": [
       "array([14, 13, 12, 11, 10,  9,  8,  7,  6,  5,  4,  3,  2,  1,  0])"
      ]
     },
     "execution_count": 53,
     "metadata": {},
     "output_type": "execute_result"
    }
   ],
   "source": [
    "import numpy as np\n",
    "\n",
    "\n",
    "x = int(input('Введите число \"x\" больше \"0\": '))\n",
    "\n",
    "a = np.arange(x)\n",
    "a = a[::-1]\n",
    "a"
   ]
  },
  {
   "cell_type": "markdown",
   "metadata": {},
   "source": [
    "# Задача 2\n",
    "### Создайте диагональную матрицу с элементами от N до 0. Посчитайте сумму ее значений на диагонали."
   ]
  },
  {
   "cell_type": "code",
   "execution_count": 8,
   "metadata": {},
   "outputs": [
    {
     "name": "stdout",
     "output_type": "stream",
     "text": [
      "Введите число \"x\" больше \"0\": 9\n",
      "[[8 0 0 0 0 0 0 0 0]\n",
      " [0 7 0 0 0 0 0 0 0]\n",
      " [0 0 6 0 0 0 0 0 0]\n",
      " [0 0 0 5 0 0 0 0 0]\n",
      " [0 0 0 0 4 0 0 0 0]\n",
      " [0 0 0 0 0 3 0 0 0]\n",
      " [0 0 0 0 0 0 2 0 0]\n",
      " [0 0 0 0 0 0 0 1 0]\n",
      " [0 0 0 0 0 0 0 0 0]]\n"
     ]
    }
   ],
   "source": [
    "# Я полностью переделал эту задачу, так как вспомнил, что такое вообще диаг.матрица.\n",
    "#Надеюсь, все правильно.\n",
    "import numpy as np\n",
    "\n",
    "\n",
    "x = int(input('Введите число \"x\" больше \"0\": '))\n",
    "\n",
    "c = np.arange(x)\n",
    "c = c[::-1]\n",
    "print(np.diag(c))"
   ]
  },
  {
   "cell_type": "code",
   "execution_count": 11,
   "metadata": {},
   "outputs": [
    {
     "name": "stdout",
     "output_type": "stream",
     "text": [
      "36\n"
     ]
    }
   ],
   "source": [
    "diag_ = np.diag(c)\n",
    "result = diag_.sum()\n",
    "print(result)"
   ]
  },
  {
   "cell_type": "markdown",
   "metadata": {},
   "source": [
    "# Задача 3\n",
    "## Решите систему уравнений:\n",
    "### 4x + 2y + z = 4\n",
    "### x + 3y = 12\n",
    "### 5y + 4z = -3"
   ]
  },
  {
   "cell_type": "code",
   "execution_count": 24,
   "metadata": {},
   "outputs": [
    {
     "name": "stdout",
     "output_type": "stream",
     "text": [
      "[ 0.46666667  3.84444444 -5.55555556]\n"
     ]
    }
   ],
   "source": [
    "import numpy as np\n",
    "\n",
    "matrix_ = np.array([[4,2,1], [1,3,0], [0,5,4]])\n",
    "vector_ = np.array([4,12,-3])\n",
    "result = np.linalg.solve(matrix_, vector_)\n",
    "\n",
    "print(result)"
   ]
  },
  {
   "cell_type": "markdown",
   "metadata": {},
   "source": [
    "# Задача 4\n"
   ]
  },
  {
   "cell_type": "code",
   "execution_count": 66,
   "metadata": {},
   "outputs": [
    {
     "name": "stdout",
     "output_type": "stream",
     "text": [
      "User ID:8\n",
      "Cosin:0.9486832980505138\n"
     ]
    }
   ],
   "source": [
    "# я сделал новый вариант решения задачи.Предыдущий вариант(ниже) я исправил.\n",
    "\n",
    "import numpy as np\n",
    "\n",
    "users_stats = np.array(\n",
    "    [\n",
    "        [2, 1, 0, 0, 0, 0],\n",
    "        [1, 1, 2, 1, 0, 0],\n",
    "        [2, 0, 1, 0, 0, 0],\n",
    "        [1, 1, 2, 1, 0, 1],\n",
    "        [0, 0, 1, 2, 0, 0],\n",
    "        [0, 0, 0, 0, 0, 5],\n",
    "        [1, 0, 0, 0, 0, 0],\n",
    "        [0, 1, 1, 0, 0, 0],\n",
    "        [0, 0, 0, 1, 1, 3],\n",
    "        [1, 0, 0, 2, 1, 4]\n",
    "    ], \n",
    "    np.int32\n",
    ")\n",
    "\n",
    "\n",
    "next_user_stats = np.array([0, 1, 2, 0, 0, 0])\n",
    "\n",
    "\n",
    "comparison = [np.dot(stat, next_user_stats) / (np.linalg.norm(stat) * np.linalg.norm(next_user_stats))\n",
    "    for stat in users_stats]\n",
    "    \n",
    "print(f'User ID:{comparison.index(max(comparison))+1}\\nCosin:{(max(comparison))}')\n",
    "    \n"
   ]
  },
  {
   "cell_type": "code",
   "execution_count": 65,
   "metadata": {},
   "outputs": [
    {
     "name": "stdout",
     "output_type": "stream",
     "text": [
      "User ID:8\n",
      "Cosin:0.9486832980505138\n"
     ]
    }
   ],
   "source": [
    "import numpy as np\n",
    "\n",
    "users_stats = np.array(\n",
    "    [\n",
    "        [2, 1, 0, 0, 0, 0],\n",
    "        [1, 1, 2, 1, 0, 0],\n",
    "        [2, 0, 1, 0, 0, 0],\n",
    "        [1, 1, 2, 1, 0, 1],\n",
    "        [0, 0, 1, 2, 0, 0],\n",
    "        [0, 0, 0, 0, 0, 5],\n",
    "        [1, 0, 0, 0, 0, 0],\n",
    "        [0, 1, 1, 0, 0, 0],\n",
    "        [0, 0, 0, 1, 1, 3],\n",
    "        [1, 0, 0, 2, 1, 4]\n",
    "    ], \n",
    "    np.int32\n",
    ")\n",
    "\n",
    "\n",
    "next_user_stats = np.array([0, 1, 2, 0, 0, 0])\n",
    "\n",
    "\n",
    "def cosine(users_stats, next_user_stats):\n",
    "    len_users_stats = np.linalg.norm(users_stats, axis=1)\n",
    "    len_next_user_stats = np.linalg.norm(next_user_stats)\n",
    "    comparison = np.dot(users_stats, next_user_stats) / (len_users_stats * len_next_user_stats)\n",
    "    return comparison\n",
    "print(f'User ID:{comparison.index(max(comparison))+1}\\nCosin:{(max(comparison))}')"
   ]
  }
 ],
 "metadata": {
  "kernelspec": {
   "display_name": "Python 3",
   "language": "python",
   "name": "python3"
  },
  "language_info": {
   "codemirror_mode": {
    "name": "ipython",
    "version": 3
   },
   "file_extension": ".py",
   "mimetype": "text/x-python",
   "name": "python",
   "nbconvert_exporter": "python",
   "pygments_lexer": "ipython3",
   "version": "3.8.5"
  }
 },
 "nbformat": 4,
 "nbformat_minor": 4
}
